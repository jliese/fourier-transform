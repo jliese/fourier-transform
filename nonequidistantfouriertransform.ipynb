{
 "cells": [
  {
   "cell_type": "code",
   "execution_count": 145,
   "metadata": {},
   "outputs": [],
   "source": [
    "using Plots\n",
    "using Base.Threads\n",
    "using CUDA\n",
    "using DelimitedFiles\n",
    "\n",
    "import LinearAlgebra"
   ]
  },
  {
   "cell_type": "code",
   "execution_count": 146,
   "metadata": {},
   "outputs": [
    {
     "data": {
      "text/plain": [
       "nedft (generic function with 1 method)"
      ]
     },
     "execution_count": 146,
     "metadata": {},
     "output_type": "execute_result"
    }
   ],
   "source": [
    "function nedft(x :: Array{Float64, 1}, F :: Array{ComplexF64, 1})\n",
    "    N = length(F)\n",
    "    if length(x) != N\n",
    "        error(\"Length mismatch\")\n",
    "    end\n",
    "    \n",
    "    f = zeros(ComplexF64, N)\n",
    "\n",
    "    for j = 1:N\n",
    "        for k = 1:N\n",
    "            @inbounds f[j] += F[k] * exp(-2*π*1im*x[j]*(k-1-N/2))\n",
    "        end\n",
    "    end\n",
    "\n",
    "    f\n",
    "end"
   ]
  },
  {
   "cell_type": "code",
   "execution_count": 147,
   "metadata": {},
   "outputs": [
    {
     "data": {
      "text/plain": [
       "nedft_simpl (generic function with 1 method)"
      ]
     },
     "execution_count": 147,
     "metadata": {},
     "output_type": "execute_result"
    }
   ],
   "source": [
    "function nedft_simpl(x :: Array{Float64, 1}, F :: Array{ComplexF64, 1})\n",
    "    N = length(F)\n",
    "    if length(x) != N\n",
    "        error(\"Length mismatch\")\n",
    "    end\n",
    "    \n",
    "    f = zeros(ComplexF64, N)\n",
    "\n",
    "    for j = 1:N\n",
    "        e_j = exp(-2*π*1im*x[j])^(-N/2)\n",
    "        for k = N:-1:1\n",
    "            @inbounds f[j] *= e_j\n",
    "            @inbounds f[j] += F[k]\n",
    "        end\n",
    "    end\n",
    "\n",
    "    f\n",
    "end"
   ]
  },
  {
   "cell_type": "code",
   "execution_count": 148,
   "metadata": {},
   "outputs": [
    {
     "data": {
      "text/plain": [
       "nedft_outer_threaded (generic function with 1 method)"
      ]
     },
     "execution_count": 148,
     "metadata": {},
     "output_type": "execute_result"
    }
   ],
   "source": [
    "function nedft_outer_threaded(x :: Array{Float64, 1}, F :: Array{ComplexF64, 1})\n",
    "    N = length(F)\n",
    "    if length(x) != N\n",
    "        error(\"Length mismatch\")\n",
    "    end\n",
    "    \n",
    "    f = zeros(ComplexF64, N)\n",
    "\n",
    "    @threads for j = 1:N\n",
    "        for k = 1:N\n",
    "            @inbounds f[j] += F[k] * exp(-2*π*1im*x[j]*(k-1-N/2))\n",
    "        end\n",
    "    end\n",
    "\n",
    "    f\n",
    "end"
   ]
  },
  {
   "cell_type": "code",
   "execution_count": 149,
   "metadata": {},
   "outputs": [
    {
     "data": {
      "text/plain": [
       "nedft_inner_threaded (generic function with 1 method)"
      ]
     },
     "execution_count": 149,
     "metadata": {},
     "output_type": "execute_result"
    }
   ],
   "source": [
    "# GEFAHR --- Da Threads asynchron funktioniert Horner-style Multiplikation nicht, wenn man die k's aufteilt!!!\n",
    "function nedft_inner_threaded(x :: Array{Float64, 1}, F :: Array{ComplexF64, 1})\n",
    "    N = length(F)\n",
    "    if length(x) != N\n",
    "        error(\"Length mismatch\")\n",
    "    end\n",
    "    \n",
    "    f = zeros(ComplexF64, N)\n",
    "\n",
    "    for j = 1:N\n",
    "        @threads for k = 1:N\n",
    "            @inbounds f[j] += F[k] * exp(-2*π*1im*x[j]*(k-1-N/2))\n",
    "        end\n",
    "    end\n",
    "\n",
    "    f\n",
    "end"
   ]
  },
  {
   "cell_type": "code",
   "execution_count": 150,
   "metadata": {},
   "outputs": [
    {
     "data": {
      "text/plain": [
       "nedft_horner_threaded (generic function with 1 method)"
      ]
     },
     "execution_count": 150,
     "metadata": {},
     "output_type": "execute_result"
    }
   ],
   "source": [
    "function nedft_horner_threaded(x :: Array{Float64, 1}, F :: Array{ComplexF64, 1})\n",
    "    N = length(F)\n",
    "    \n",
    "    if length(x) != N\n",
    "        error(\"Length mismatch\")\n",
    "    end\n",
    "    \n",
    "    f :: Array{ComplexF64, 1} = zeros(ComplexF64, N)\n",
    "\n",
    "    @threads for j = 1:N\n",
    "        e_j = exp(-2*π*1im*x[j])\n",
    "        for k = N:-1:1\n",
    "            @inbounds f[j] = f[j] * e_j + F[k]\n",
    "        end\n",
    "        f[j] = f[j] * e_j^(-N/2) \n",
    "    end\n",
    "\n",
    "    f\n",
    "end"
   ]
  },
  {
   "cell_type": "code",
   "execution_count": 151,
   "metadata": {},
   "outputs": [
    {
     "data": {
      "text/plain": [
       "nedft_cuda (generic function with 1 method)"
      ]
     },
     "execution_count": 151,
     "metadata": {},
     "output_type": "execute_result"
    }
   ],
   "source": [
    "function nedft_cuda(x :: Array{Float64, 1}, F :: Array{ComplexF64, 1})\n",
    "    N = length(x)\n",
    "    \n",
    "    # Copy data to GPU\n",
    "    F_d = CuArray(F)\n",
    "    x_d = CuArray(x)\n",
    "    f_d = CUDA.zeros(ComplexF64, N)\n",
    "    e_d = CUDA.zeros(Float64, N)\n",
    "\n",
    "    CUDA.copyto!(e_d, x_d)\n",
    "    \n",
    "    s = -2*π*1im\n",
    "    \n",
    "    e_d = broadcast(CUDA.exp, s.*e_d)\n",
    "\n",
    "    for k = N:-1:1\n",
    "        CUDA.fill!(F_d, F[k])\n",
    "        f_d .= f_d .* e_d .+ F_d\n",
    "    end\n",
    "    CUDA.copyto!(e_d, x_d)\n",
    "    e_d = broadcast(CUDA.exp, (-N/2)*s.*e_d)\n",
    "    f_d =  f_d .* e_d\n",
    "\n",
    "    # f_d von GPU \n",
    "    Array(f_d)\n",
    "end"
   ]
  },
  {
   "cell_type": "code",
   "execution_count": 152,
   "metadata": {},
   "outputs": [
    {
     "name": "stdout",
     "output_type": "stream",
     "text": [
      "  0.069708 seconds (65.53 k allocations: 3.498 MiB)\n"
     ]
    }
   ],
   "source": [
    "# Precompile funcs\n",
    "@time begin\n",
    "    local N = 2^2                        # Length of input vector\n",
    "    local F = rand(ComplexF64, N)        # Fourier Coefficients\n",
    "    local x = rand(Float64, N) .- 0.5    # Sample points (-.5, .5]\n",
    "    \n",
    "    nedft(x,F)\n",
    "    nedft_simpl(x, F)\n",
    "    nedft_basic_threaded(x, F)\n",
    "    nedft_horner_threaded(x, F)\n",
    "    nedft_cuda(x, F)                     # Vorallem hier viel Overhead\n",
    "end;"
   ]
  },
  {
   "cell_type": "code",
   "execution_count": 154,
   "metadata": {},
   "outputs": [],
   "source": [
    "max_exp = 17\n",
    "data = zeros(6,max_exp)\n",
    "\n",
    "for exponent = 1:max_exp\n",
    "    local N = 2^exponent                 # Length of input vector\n",
    "    local F = rand(ComplexF64, N)        # Fourier Coefficients\n",
    "    local x = rand(Float64, N) .- 0.5    # Sample points (-.5, .5]\n",
    "\n",
    "    data[1, exponent] = @elapsed nedft(x,F)\n",
    "    data[2, exponent] = @elapsed nedft_simpl(x, F)\n",
    "    data[3, exponent] = @elapsed nedft_outer_threaded(x, F)\n",
    "    data[4, exponent] = @elapsed nedft_horner_threaded(x, F)\n",
    "    data[5, exponent] = @elapsed nedft_cuda(x, F)\n",
    "end"
   ]
  },
  {
   "cell_type": "markdown",
   "metadata": {},
   "source": [
    "<img src=\"vgl1.png\">"
   ]
  },
  {
   "cell_type": "code",
   "execution_count": 163,
   "metadata": {},
   "outputs": [],
   "source": [
    "Plots.plot( data[1, :], label=\"standard\", title=\"Performance of various implementations\", xlabel=\"Time in s\", size=(1200,600))\n",
    "plot!(data[2, :], label=\"horner\")\n",
    "plot!(data[3, :], label=\"threads ($(nthreads()))\")\n",
    "plot!(data[4, :], label=\"threads ($(nthreads()))+horner\")\n",
    "plot!(data[5, :], label=\"CUDA\")\n",
    "\n",
    "xlabel!(\"Length of Input (log_2)\")\n",
    "ylabel!(\"Time in seconds\");"
   ]
  },
  {
   "cell_type": "markdown",
   "metadata": {},
   "source": [
    "<img src=\"benchmark2.png\">"
   ]
  },
  {
   "cell_type": "code",
   "execution_count": 171,
   "metadata": {},
   "outputs": [],
   "source": [
    "Plots.plot( data[1, 1:5], label=\"standard\", title=\"Performance of various implementations\", xlabel=\"Time in s\", size=(1200,600))\n",
    "plot!(data[2, 1:5], label=\"horner\")\n",
    "plot!(data[3, 1:5], label=\"threads ($(nthreads()))\")\n",
    "plot!(data[4, 1:5], label=\"threads ($(nthreads()))+horner\")\n",
    "plot!(data[5, 1:5], label=\"CUDA\")\n",
    "\n",
    "xlabel!(\"Length of Input (log_2)\");"
   ]
  },
  {
   "cell_type": "markdown",
   "metadata": {},
   "source": [
    "<img src=\"benchmark3.png\">"
   ]
  },
  {
   "cell_type": "code",
   "execution_count": 175,
   "metadata": {},
   "outputs": [],
   "source": [
    "Plots.plot( data[1, 1:5], label=\"standard\", title=\"Performance of various implementations\", xlabel=\"Time in s\", size=(1200,600))\n",
    "plot!(data[2, 1:5], label=\"horner\")\n",
    "plot!(data[3, 1:5], label=\"threads ($(nthreads()))\")\n",
    "plot!(data[4, 1:5], label=\"threads ($(nthreads()))+horner\")\n",
    "xlabel!(\"Length of Input (log_2)\");"
   ]
  },
  {
   "cell_type": "markdown",
   "metadata": {},
   "source": [
    "<img src=\"benchmark4.png\">"
   ]
  }
 ],
 "metadata": {
  "kernelspec": {
   "display_name": "Julia 1.5.1",
   "language": "julia",
   "name": "julia-1.5"
  },
  "language_info": {
   "file_extension": ".jl",
   "mimetype": "application/julia",
   "name": "julia",
   "version": "1.5.1"
  }
 },
 "nbformat": 4,
 "nbformat_minor": 4
}
